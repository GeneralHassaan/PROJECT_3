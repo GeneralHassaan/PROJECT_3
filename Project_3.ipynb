{
 "cells": [
  {
   "cell_type": "code",
   "execution_count": 2,
   "id": "ce2e9a56",
   "metadata": {},
   "outputs": [],
   "source": [
    "import pymysql\n",
    "import numpy as np\n",
    "import pandas as pd\n",
    "from sqlalchemy import create_engine\n",
    "pymysql.install_as_MySQLdb()"
   ]
  },
  {
   "cell_type": "code",
   "execution_count": 2,
   "id": "9fc01044",
   "metadata": {},
   "outputs": [
    {
     "data": {
      "text/html": [
       "<div>\n",
       "<style scoped>\n",
       "    .dataframe tbody tr th:only-of-type {\n",
       "        vertical-align: middle;\n",
       "    }\n",
       "\n",
       "    .dataframe tbody tr th {\n",
       "        vertical-align: top;\n",
       "    }\n",
       "\n",
       "    .dataframe thead th {\n",
       "        text-align: right;\n",
       "    }\n",
       "</style>\n",
       "<table border=\"1\" class=\"dataframe\">\n",
       "  <thead>\n",
       "    <tr style=\"text-align: right;\">\n",
       "      <th></th>\n",
       "      <th>tconst</th>\n",
       "      <th>titleType</th>\n",
       "      <th>primaryTitle</th>\n",
       "      <th>originalTitle</th>\n",
       "      <th>isAdult</th>\n",
       "      <th>startYear</th>\n",
       "      <th>endYear</th>\n",
       "      <th>runtimeMinutes</th>\n",
       "      <th>genres</th>\n",
       "    </tr>\n",
       "  </thead>\n",
       "  <tbody>\n",
       "    <tr>\n",
       "      <th>0</th>\n",
       "      <td>tt0000001</td>\n",
       "      <td>short</td>\n",
       "      <td>Carmencita</td>\n",
       "      <td>Carmencita</td>\n",
       "      <td>0</td>\n",
       "      <td>1894</td>\n",
       "      <td>\\N</td>\n",
       "      <td>1</td>\n",
       "      <td>Documentary,Short</td>\n",
       "    </tr>\n",
       "    <tr>\n",
       "      <th>1</th>\n",
       "      <td>tt0000002</td>\n",
       "      <td>short</td>\n",
       "      <td>Le clown et ses chiens</td>\n",
       "      <td>Le clown et ses chiens</td>\n",
       "      <td>0</td>\n",
       "      <td>1892</td>\n",
       "      <td>\\N</td>\n",
       "      <td>5</td>\n",
       "      <td>Animation,Short</td>\n",
       "    </tr>\n",
       "    <tr>\n",
       "      <th>2</th>\n",
       "      <td>tt0000003</td>\n",
       "      <td>short</td>\n",
       "      <td>Pauvre Pierrot</td>\n",
       "      <td>Pauvre Pierrot</td>\n",
       "      <td>0</td>\n",
       "      <td>1892</td>\n",
       "      <td>\\N</td>\n",
       "      <td>4</td>\n",
       "      <td>Animation,Comedy,Romance</td>\n",
       "    </tr>\n",
       "    <tr>\n",
       "      <th>3</th>\n",
       "      <td>tt0000004</td>\n",
       "      <td>short</td>\n",
       "      <td>Un bon bock</td>\n",
       "      <td>Un bon bock</td>\n",
       "      <td>0</td>\n",
       "      <td>1892</td>\n",
       "      <td>\\N</td>\n",
       "      <td>12</td>\n",
       "      <td>Animation,Short</td>\n",
       "    </tr>\n",
       "    <tr>\n",
       "      <th>4</th>\n",
       "      <td>tt0000005</td>\n",
       "      <td>short</td>\n",
       "      <td>Blacksmith Scene</td>\n",
       "      <td>Blacksmith Scene</td>\n",
       "      <td>0</td>\n",
       "      <td>1893</td>\n",
       "      <td>\\N</td>\n",
       "      <td>1</td>\n",
       "      <td>Comedy,Short</td>\n",
       "    </tr>\n",
       "  </tbody>\n",
       "</table>\n",
       "</div>"
      ],
      "text/plain": [
       "      tconst titleType            primaryTitle           originalTitle  \\\n",
       "0  tt0000001     short              Carmencita              Carmencita   \n",
       "1  tt0000002     short  Le clown et ses chiens  Le clown et ses chiens   \n",
       "2  tt0000003     short          Pauvre Pierrot          Pauvre Pierrot   \n",
       "3  tt0000004     short             Un bon bock             Un bon bock   \n",
       "4  tt0000005     short        Blacksmith Scene        Blacksmith Scene   \n",
       "\n",
       "  isAdult startYear endYear runtimeMinutes                    genres  \n",
       "0       0      1894      \\N              1         Documentary,Short  \n",
       "1       0      1892      \\N              5           Animation,Short  \n",
       "2       0      1892      \\N              4  Animation,Comedy,Romance  \n",
       "3       0      1892      \\N             12           Animation,Short  \n",
       "4       0      1893      \\N              1              Comedy,Short  "
      ]
     },
     "execution_count": 2,
     "metadata": {},
     "output_type": "execute_result"
    }
   ],
   "source": [
    "filename = 'https://datasets.imdbws.com/title.basics.tsv.gz'\n",
    "df = pd.read_csv(filename, sep='\\t', low_memory=False)\n",
    "\n",
    "df.head()"
   ]
  },
  {
   "cell_type": "code",
   "execution_count": 3,
   "id": "ed712b54",
   "metadata": {},
   "outputs": [
    {
     "name": "stdout",
     "output_type": "stream",
     "text": [
      "<class 'pandas.core.frame.DataFrame'>\n",
      "RangeIndex: 9417423 entries, 0 to 9417422\n",
      "Data columns (total 9 columns):\n",
      " #   Column          Dtype \n",
      "---  ------          ----- \n",
      " 0   tconst          object\n",
      " 1   titleType       object\n",
      " 2   primaryTitle    object\n",
      " 3   originalTitle   object\n",
      " 4   isAdult         object\n",
      " 5   startYear       object\n",
      " 6   endYear         object\n",
      " 7   runtimeMinutes  object\n",
      " 8   genres          object\n",
      "dtypes: object(9)\n",
      "memory usage: 646.6+ MB\n"
     ]
    }
   ],
   "source": [
    "df.info()"
   ]
  },
  {
   "cell_type": "code",
   "execution_count": 4,
   "id": "4c709438",
   "metadata": {},
   "outputs": [
    {
     "data": {
      "text/plain": [
       "tconst             0\n",
       "titleType          0\n",
       "primaryTitle      11\n",
       "originalTitle     11\n",
       "isAdult            0\n",
       "startYear          0\n",
       "endYear            0\n",
       "runtimeMinutes     0\n",
       "genres            10\n",
       "dtype: int64"
      ]
     },
     "execution_count": 4,
     "metadata": {},
     "output_type": "execute_result"
    }
   ],
   "source": [
    "df.isna().sum()"
   ]
  },
  {
   "cell_type": "code",
   "execution_count": 5,
   "id": "ac2553a8",
   "metadata": {},
   "outputs": [],
   "source": [
    "df.dropna(inplace=True)"
   ]
  },
  {
   "cell_type": "code",
   "execution_count": 6,
   "id": "dfa4b49c",
   "metadata": {},
   "outputs": [],
   "source": [
    "df = df.loc[(df['startYear'] >= '2000')]"
   ]
  },
  {
   "cell_type": "code",
   "execution_count": 7,
   "id": "b081489d",
   "metadata": {},
   "outputs": [],
   "source": [
    "df = df.replace({'\\\\N':np.nan})"
   ]
  },
  {
   "cell_type": "code",
   "execution_count": 8,
   "id": "039fee9d",
   "metadata": {},
   "outputs": [
    {
     "data": {
      "text/html": [
       "<div>\n",
       "<style scoped>\n",
       "    .dataframe tbody tr th:only-of-type {\n",
       "        vertical-align: middle;\n",
       "    }\n",
       "\n",
       "    .dataframe tbody tr th {\n",
       "        vertical-align: top;\n",
       "    }\n",
       "\n",
       "    .dataframe thead th {\n",
       "        text-align: right;\n",
       "    }\n",
       "</style>\n",
       "<table border=\"1\" class=\"dataframe\">\n",
       "  <thead>\n",
       "    <tr style=\"text-align: right;\">\n",
       "      <th></th>\n",
       "      <th>tconst</th>\n",
       "      <th>titleType</th>\n",
       "      <th>primaryTitle</th>\n",
       "      <th>originalTitle</th>\n",
       "      <th>isAdult</th>\n",
       "      <th>startYear</th>\n",
       "      <th>endYear</th>\n",
       "      <th>runtimeMinutes</th>\n",
       "      <th>genres</th>\n",
       "    </tr>\n",
       "  </thead>\n",
       "  <tbody>\n",
       "    <tr>\n",
       "      <th>108535</th>\n",
       "      <td>tt0111056</td>\n",
       "      <td>tvSeries</td>\n",
       "      <td>Gensomaden Saiyuki</td>\n",
       "      <td>Gensomaden Saiyuki</td>\n",
       "      <td>0</td>\n",
       "      <td>2000</td>\n",
       "      <td>2001</td>\n",
       "      <td>23</td>\n",
       "      <td>Action,Adventure,Animation</td>\n",
       "    </tr>\n",
       "    <tr>\n",
       "      <th>137809</th>\n",
       "      <td>tt0142032</td>\n",
       "      <td>tvMiniSeries</td>\n",
       "      <td>Dune</td>\n",
       "      <td>Dune</td>\n",
       "      <td>0</td>\n",
       "      <td>2000</td>\n",
       "      <td>2000</td>\n",
       "      <td>265</td>\n",
       "      <td>Adventure,Drama,Sci-Fi</td>\n",
       "    </tr>\n",
       "    <tr>\n",
       "      <th>153528</th>\n",
       "      <td>tt0158466</td>\n",
       "      <td>tvMiniSeries</td>\n",
       "      <td>Anne of Green Gables: The Continuing Story</td>\n",
       "      <td>Anne of Green Gables: The Continuing Story</td>\n",
       "      <td>0</td>\n",
       "      <td>2000</td>\n",
       "      <td>2000</td>\n",
       "      <td>185</td>\n",
       "      <td>Drama,Family,Romance</td>\n",
       "    </tr>\n",
       "    <tr>\n",
       "      <th>155721</th>\n",
       "      <td>tt0160904</td>\n",
       "      <td>tvSeries</td>\n",
       "      <td>MI-5</td>\n",
       "      <td>Spooks</td>\n",
       "      <td>0</td>\n",
       "      <td>2002</td>\n",
       "      <td>2011</td>\n",
       "      <td>60</td>\n",
       "      <td>Action,Crime,Drama</td>\n",
       "    </tr>\n",
       "    <tr>\n",
       "      <th>158587</th>\n",
       "      <td>tt0163944</td>\n",
       "      <td>tvMiniSeries</td>\n",
       "      <td>Labyrinten</td>\n",
       "      <td>Labyrinten</td>\n",
       "      <td>0</td>\n",
       "      <td>2000</td>\n",
       "      <td>2000</td>\n",
       "      <td>259</td>\n",
       "      <td>Drama,Thriller</td>\n",
       "    </tr>\n",
       "    <tr>\n",
       "      <th>162018</th>\n",
       "      <td>tt0167701</td>\n",
       "      <td>tvSeries</td>\n",
       "      <td>Randall &amp; Hopkirk (Deceased)</td>\n",
       "      <td>Randall &amp; Hopkirk (Deceased)</td>\n",
       "      <td>0</td>\n",
       "      <td>2000</td>\n",
       "      <td>2001</td>\n",
       "      <td>50</td>\n",
       "      <td>Comedy,Crime,Fantasy</td>\n",
       "    </tr>\n",
       "    <tr>\n",
       "      <th>171904</th>\n",
       "      <td>tt0178140</td>\n",
       "      <td>tvMiniSeries</td>\n",
       "      <td>The Wide Net</td>\n",
       "      <td>Det grovmaskiga nätet</td>\n",
       "      <td>0</td>\n",
       "      <td>2000</td>\n",
       "      <td>2000</td>\n",
       "      <td>176</td>\n",
       "      <td>Crime,Drama,Mystery</td>\n",
       "    </tr>\n",
       "    <tr>\n",
       "      <th>171924</th>\n",
       "      <td>tt0178161</td>\n",
       "      <td>tvSeries</td>\n",
       "      <td>The Secret Adventures of Jules Verne</td>\n",
       "      <td>The Secret Adventures of Jules Verne</td>\n",
       "      <td>0</td>\n",
       "      <td>2000</td>\n",
       "      <td>2000</td>\n",
       "      <td>60</td>\n",
       "      <td>Adventure,Horror,Sci-Fi</td>\n",
       "    </tr>\n",
       "    <tr>\n",
       "      <th>172767</th>\n",
       "      <td>tt0179051</td>\n",
       "      <td>tvMiniSeries</td>\n",
       "      <td>Ted and Alice</td>\n",
       "      <td>Ted and Alice</td>\n",
       "      <td>0</td>\n",
       "      <td>2002</td>\n",
       "      <td>2002</td>\n",
       "      <td>180</td>\n",
       "      <td>Comedy,Drama,Romance</td>\n",
       "    </tr>\n",
       "    <tr>\n",
       "      <th>174754</th>\n",
       "      <td>tt0181199</td>\n",
       "      <td>tvMiniSeries</td>\n",
       "      <td>Arabian Nights</td>\n",
       "      <td>Arabian Nights</td>\n",
       "      <td>0</td>\n",
       "      <td>2000</td>\n",
       "      <td>2000</td>\n",
       "      <td>175</td>\n",
       "      <td>Adventure,Family,Fantasy</td>\n",
       "    </tr>\n",
       "  </tbody>\n",
       "</table>\n",
       "</div>"
      ],
      "text/plain": [
       "           tconst     titleType                                primaryTitle  \\\n",
       "108535  tt0111056      tvSeries                          Gensomaden Saiyuki   \n",
       "137809  tt0142032  tvMiniSeries                                        Dune   \n",
       "153528  tt0158466  tvMiniSeries  Anne of Green Gables: The Continuing Story   \n",
       "155721  tt0160904      tvSeries                                        MI-5   \n",
       "158587  tt0163944  tvMiniSeries                                  Labyrinten   \n",
       "162018  tt0167701      tvSeries                Randall & Hopkirk (Deceased)   \n",
       "171904  tt0178140  tvMiniSeries                                The Wide Net   \n",
       "171924  tt0178161      tvSeries        The Secret Adventures of Jules Verne   \n",
       "172767  tt0179051  tvMiniSeries                               Ted and Alice   \n",
       "174754  tt0181199  tvMiniSeries                              Arabian Nights   \n",
       "\n",
       "                                     originalTitle isAdult startYear endYear  \\\n",
       "108535                          Gensomaden Saiyuki       0      2000    2001   \n",
       "137809                                        Dune       0      2000    2000   \n",
       "153528  Anne of Green Gables: The Continuing Story       0      2000    2000   \n",
       "155721                                      Spooks       0      2002    2011   \n",
       "158587                                  Labyrinten       0      2000    2000   \n",
       "162018                Randall & Hopkirk (Deceased)       0      2000    2001   \n",
       "171904                       Det grovmaskiga nätet       0      2000    2000   \n",
       "171924        The Secret Adventures of Jules Verne       0      2000    2000   \n",
       "172767                               Ted and Alice       0      2002    2002   \n",
       "174754                              Arabian Nights       0      2000    2000   \n",
       "\n",
       "       runtimeMinutes                      genres  \n",
       "108535             23  Action,Adventure,Animation  \n",
       "137809            265      Adventure,Drama,Sci-Fi  \n",
       "153528            185        Drama,Family,Romance  \n",
       "155721             60          Action,Crime,Drama  \n",
       "158587            259              Drama,Thriller  \n",
       "162018             50        Comedy,Crime,Fantasy  \n",
       "171904            176         Crime,Drama,Mystery  \n",
       "171924             60     Adventure,Horror,Sci-Fi  \n",
       "172767            180        Comedy,Drama,Romance  \n",
       "174754            175    Adventure,Family,Fantasy  "
      ]
     },
     "execution_count": 8,
     "metadata": {},
     "output_type": "execute_result"
    }
   ],
   "source": [
    "df.dropna(inplace = True)\n",
    "df.head(10)"
   ]
  },
  {
   "cell_type": "code",
   "execution_count": 9,
   "id": "53de0361",
   "metadata": {},
   "outputs": [
    {
     "data": {
      "text/html": [
       "<div>\n",
       "<style scoped>\n",
       "    .dataframe tbody tr th:only-of-type {\n",
       "        vertical-align: middle;\n",
       "    }\n",
       "\n",
       "    .dataframe tbody tr th {\n",
       "        vertical-align: top;\n",
       "    }\n",
       "\n",
       "    .dataframe thead th {\n",
       "        text-align: right;\n",
       "    }\n",
       "</style>\n",
       "<table border=\"1\" class=\"dataframe\">\n",
       "  <thead>\n",
       "    <tr style=\"text-align: right;\">\n",
       "      <th></th>\n",
       "      <th>tconst</th>\n",
       "      <th>titleType</th>\n",
       "      <th>primaryTitle</th>\n",
       "      <th>originalTitle</th>\n",
       "      <th>isAdult</th>\n",
       "      <th>startYear</th>\n",
       "      <th>endYear</th>\n",
       "      <th>runtimeMinutes</th>\n",
       "      <th>genres</th>\n",
       "    </tr>\n",
       "  </thead>\n",
       "  <tbody>\n",
       "  </tbody>\n",
       "</table>\n",
       "</div>"
      ],
      "text/plain": [
       "Empty DataFrame\n",
       "Columns: [tconst, titleType, primaryTitle, originalTitle, isAdult, startYear, endYear, runtimeMinutes, genres]\n",
       "Index: []"
      ]
     },
     "execution_count": 9,
     "metadata": {},
     "output_type": "execute_result"
    }
   ],
   "source": [
    "df.loc[(df['titleType'] == 'movie')]"
   ]
  },
  {
   "cell_type": "code",
   "execution_count": 10,
   "id": "a613fae8",
   "metadata": {},
   "outputs": [],
   "source": [
    "is_documentary = df['genres'].str.contains('documentary',case=False)\n",
    "df = df[~is_documentary]"
   ]
  },
  {
   "cell_type": "code",
   "execution_count": null,
   "id": "85d2d4eb",
   "metadata": {},
   "outputs": [],
   "source": [
    "# file_2 = 'https://datasets.imdbws.com/title.akas.tsv.gz'\n",
    "# akas = pd.read_csv(file_2, sep='\\t', low_memory=False)"
   ]
  },
  {
   "cell_type": "code",
   "execution_count": 11,
   "id": "6bc4ba2d",
   "metadata": {},
   "outputs": [],
   "source": [
    "# keepers =df['tconst'].isin(akas['titleid'])\n",
    "# df_2.head(10)"
   ]
  },
  {
   "cell_type": "code",
   "execution_count": null,
   "id": "981ece78",
   "metadata": {},
   "outputs": [],
   "source": [
    "# df_2 = df_2.replace({'\\\\N':np.nan})"
   ]
  },
  {
   "cell_type": "code",
   "execution_count": null,
   "id": "40170206",
   "metadata": {},
   "outputs": [],
   "source": [
    "# df_2.loc[(df_2['region'] == 'US')]"
   ]
  },
  {
   "cell_type": "code",
   "execution_count": 12,
   "id": "4e4e4061",
   "metadata": {},
   "outputs": [
    {
     "name": "stdout",
     "output_type": "stream",
     "text": [
      "<class 'pandas.core.frame.DataFrame'>\n",
      "Int64Index: 23158 entries, 108535 to 9417116\n",
      "Data columns (total 9 columns):\n",
      " #   Column          Non-Null Count  Dtype \n",
      "---  ------          --------------  ----- \n",
      " 0   tconst          23158 non-null  object\n",
      " 1   titleType       23158 non-null  object\n",
      " 2   primaryTitle    23158 non-null  object\n",
      " 3   originalTitle   23158 non-null  object\n",
      " 4   isAdult         23158 non-null  object\n",
      " 5   startYear       23158 non-null  object\n",
      " 6   endYear         23158 non-null  object\n",
      " 7   runtimeMinutes  23158 non-null  object\n",
      " 8   genres          23158 non-null  object\n",
      "dtypes: object(9)\n",
      "memory usage: 1.8+ MB\n"
     ]
    }
   ],
   "source": [
    "df.info()"
   ]
  },
  {
   "cell_type": "code",
   "execution_count": 4,
   "id": "fc2654cc",
   "metadata": {},
   "outputs": [
    {
     "data": {
      "text/html": [
       "<div>\n",
       "<style scoped>\n",
       "    .dataframe tbody tr th:only-of-type {\n",
       "        vertical-align: middle;\n",
       "    }\n",
       "\n",
       "    .dataframe tbody tr th {\n",
       "        vertical-align: top;\n",
       "    }\n",
       "\n",
       "    .dataframe thead th {\n",
       "        text-align: right;\n",
       "    }\n",
       "</style>\n",
       "<table border=\"1\" class=\"dataframe\">\n",
       "  <thead>\n",
       "    <tr style=\"text-align: right;\">\n",
       "      <th></th>\n",
       "      <th>tconst</th>\n",
       "      <th>averageRating</th>\n",
       "      <th>numVotes</th>\n",
       "    </tr>\n",
       "  </thead>\n",
       "  <tbody>\n",
       "    <tr>\n",
       "      <th>0</th>\n",
       "      <td>tt0000001</td>\n",
       "      <td>5.7</td>\n",
       "      <td>1923</td>\n",
       "    </tr>\n",
       "    <tr>\n",
       "      <th>1</th>\n",
       "      <td>tt0000002</td>\n",
       "      <td>5.8</td>\n",
       "      <td>260</td>\n",
       "    </tr>\n",
       "    <tr>\n",
       "      <th>2</th>\n",
       "      <td>tt0000003</td>\n",
       "      <td>6.5</td>\n",
       "      <td>1738</td>\n",
       "    </tr>\n",
       "    <tr>\n",
       "      <th>3</th>\n",
       "      <td>tt0000004</td>\n",
       "      <td>5.6</td>\n",
       "      <td>175</td>\n",
       "    </tr>\n",
       "    <tr>\n",
       "      <th>4</th>\n",
       "      <td>tt0000005</td>\n",
       "      <td>6.2</td>\n",
       "      <td>2553</td>\n",
       "    </tr>\n",
       "    <tr>\n",
       "      <th>5</th>\n",
       "      <td>tt0000006</td>\n",
       "      <td>5.1</td>\n",
       "      <td>175</td>\n",
       "    </tr>\n",
       "    <tr>\n",
       "      <th>6</th>\n",
       "      <td>tt0000007</td>\n",
       "      <td>5.4</td>\n",
       "      <td>797</td>\n",
       "    </tr>\n",
       "    <tr>\n",
       "      <th>7</th>\n",
       "      <td>tt0000008</td>\n",
       "      <td>5.4</td>\n",
       "      <td>2069</td>\n",
       "    </tr>\n",
       "    <tr>\n",
       "      <th>8</th>\n",
       "      <td>tt0000009</td>\n",
       "      <td>5.3</td>\n",
       "      <td>200</td>\n",
       "    </tr>\n",
       "    <tr>\n",
       "      <th>9</th>\n",
       "      <td>tt0000010</td>\n",
       "      <td>6.9</td>\n",
       "      <td>6984</td>\n",
       "    </tr>\n",
       "  </tbody>\n",
       "</table>\n",
       "</div>"
      ],
      "text/plain": [
       "      tconst  averageRating  numVotes\n",
       "0  tt0000001            5.7      1923\n",
       "1  tt0000002            5.8       260\n",
       "2  tt0000003            6.5      1738\n",
       "3  tt0000004            5.6       175\n",
       "4  tt0000005            6.2      2553\n",
       "5  tt0000006            5.1       175\n",
       "6  tt0000007            5.4       797\n",
       "7  tt0000008            5.4      2069\n",
       "8  tt0000009            5.3       200\n",
       "9  tt0000010            6.9      6984"
      ]
     },
     "execution_count": 4,
     "metadata": {},
     "output_type": "execute_result"
    }
   ],
   "source": [
    "file_3 = 'https://datasets.imdbws.com/title.ratings.tsv.gz'\n",
    "\n",
    "df_2 = pd.read_csv(file_3 , sep='\\t' , low_memory=False)\n",
    "\n",
    "df_2.head(10)"
   ]
  },
  {
   "cell_type": "code",
   "execution_count": 5,
   "id": "4c7cb502",
   "metadata": {},
   "outputs": [],
   "source": [
    "df_2.dropna(inplace=True)"
   ]
  },
  {
   "cell_type": "code",
   "execution_count": 7,
   "id": "2d689ed0",
   "metadata": {},
   "outputs": [
    {
     "data": {
      "text/plain": [
       "tconst           0\n",
       "averageRating    0\n",
       "numVotes         0\n",
       "dtype: int64"
      ]
     },
     "execution_count": 7,
     "metadata": {},
     "output_type": "execute_result"
    }
   ],
   "source": [
    "df_2.isna().sum()"
   ]
  },
  {
   "cell_type": "code",
   "execution_count": 6,
   "id": "49006445",
   "metadata": {},
   "outputs": [
    {
     "name": "stdout",
     "output_type": "stream",
     "text": [
      "<class 'pandas.core.frame.DataFrame'>\n",
      "RangeIndex: 1253454 entries, 0 to 1253453\n",
      "Data columns (total 3 columns):\n",
      " #   Column         Non-Null Count    Dtype  \n",
      "---  ------         --------------    -----  \n",
      " 0   tconst         1253454 non-null  object \n",
      " 1   averageRating  1253454 non-null  float64\n",
      " 2   numVotes       1253454 non-null  int64  \n",
      "dtypes: float64(1), int64(1), object(1)\n",
      "memory usage: 28.7+ MB\n"
     ]
    }
   ],
   "source": [
    "df_2.info()"
   ]
  },
  {
   "cell_type": "code",
   "execution_count": 8,
   "id": "a53af936",
   "metadata": {},
   "outputs": [
    {
     "data": {
      "text/plain": [
       "[]"
      ]
     },
     "execution_count": 8,
     "metadata": {},
     "output_type": "execute_result"
    }
   ],
   "source": [
    "import os\n",
    "os.makedirs('Data/',exist_ok=True) \n",
    "# Confirm folder created\n",
    "os.listdir(\"Data/\")"
   ]
  },
  {
   "cell_type": "code",
   "execution_count": 10,
   "id": "3e421caf",
   "metadata": {},
   "outputs": [],
   "source": [
    "df_2.to_csv(\"Data/title_basics.csv.gz\",compression='gzip',index=False)"
   ]
  },
  {
   "cell_type": "code",
   "execution_count": 11,
   "id": "356ca7c6",
   "metadata": {},
   "outputs": [
    {
     "data": {
      "text/html": [
       "<div>\n",
       "<style scoped>\n",
       "    .dataframe tbody tr th:only-of-type {\n",
       "        vertical-align: middle;\n",
       "    }\n",
       "\n",
       "    .dataframe tbody tr th {\n",
       "        vertical-align: top;\n",
       "    }\n",
       "\n",
       "    .dataframe thead th {\n",
       "        text-align: right;\n",
       "    }\n",
       "</style>\n",
       "<table border=\"1\" class=\"dataframe\">\n",
       "  <thead>\n",
       "    <tr style=\"text-align: right;\">\n",
       "      <th></th>\n",
       "      <th>tconst</th>\n",
       "      <th>averageRating</th>\n",
       "      <th>numVotes</th>\n",
       "    </tr>\n",
       "  </thead>\n",
       "  <tbody>\n",
       "    <tr>\n",
       "      <th>0</th>\n",
       "      <td>tt0000001</td>\n",
       "      <td>5.7</td>\n",
       "      <td>1923</td>\n",
       "    </tr>\n",
       "    <tr>\n",
       "      <th>1</th>\n",
       "      <td>tt0000002</td>\n",
       "      <td>5.8</td>\n",
       "      <td>260</td>\n",
       "    </tr>\n",
       "    <tr>\n",
       "      <th>2</th>\n",
       "      <td>tt0000003</td>\n",
       "      <td>6.5</td>\n",
       "      <td>1738</td>\n",
       "    </tr>\n",
       "    <tr>\n",
       "      <th>3</th>\n",
       "      <td>tt0000004</td>\n",
       "      <td>5.6</td>\n",
       "      <td>175</td>\n",
       "    </tr>\n",
       "    <tr>\n",
       "      <th>4</th>\n",
       "      <td>tt0000005</td>\n",
       "      <td>6.2</td>\n",
       "      <td>2553</td>\n",
       "    </tr>\n",
       "    <tr>\n",
       "      <th>5</th>\n",
       "      <td>tt0000006</td>\n",
       "      <td>5.1</td>\n",
       "      <td>175</td>\n",
       "    </tr>\n",
       "    <tr>\n",
       "      <th>6</th>\n",
       "      <td>tt0000007</td>\n",
       "      <td>5.4</td>\n",
       "      <td>797</td>\n",
       "    </tr>\n",
       "    <tr>\n",
       "      <th>7</th>\n",
       "      <td>tt0000008</td>\n",
       "      <td>5.4</td>\n",
       "      <td>2069</td>\n",
       "    </tr>\n",
       "    <tr>\n",
       "      <th>8</th>\n",
       "      <td>tt0000009</td>\n",
       "      <td>5.3</td>\n",
       "      <td>200</td>\n",
       "    </tr>\n",
       "    <tr>\n",
       "      <th>9</th>\n",
       "      <td>tt0000010</td>\n",
       "      <td>6.9</td>\n",
       "      <td>6984</td>\n",
       "    </tr>\n",
       "  </tbody>\n",
       "</table>\n",
       "</div>"
      ],
      "text/plain": [
       "      tconst  averageRating  numVotes\n",
       "0  tt0000001            5.7      1923\n",
       "1  tt0000002            5.8       260\n",
       "2  tt0000003            6.5      1738\n",
       "3  tt0000004            5.6       175\n",
       "4  tt0000005            6.2      2553\n",
       "5  tt0000006            5.1       175\n",
       "6  tt0000007            5.4       797\n",
       "7  tt0000008            5.4      2069\n",
       "8  tt0000009            5.3       200\n",
       "9  tt0000010            6.9      6984"
      ]
     },
     "execution_count": 11,
     "metadata": {},
     "output_type": "execute_result"
    }
   ],
   "source": [
    "df_2 = pd.read_csv(\"Data/title_basics.csv.gz\", low_memory = False)\n",
    "df_2.head(10)"
   ]
  },
  {
   "cell_type": "code",
   "execution_count": null,
   "id": "131b2e65",
   "metadata": {},
   "outputs": [],
   "source": []
  }
 ],
 "metadata": {
  "kernelspec": {
   "display_name": "Python (dojo-env)",
   "language": "python",
   "name": "dojo-env"
  },
  "language_info": {
   "codemirror_mode": {
    "name": "ipython",
    "version": 3
   },
   "file_extension": ".py",
   "mimetype": "text/x-python",
   "name": "python",
   "nbconvert_exporter": "python",
   "pygments_lexer": "ipython3",
   "version": "3.8.13"
  }
 },
 "nbformat": 4,
 "nbformat_minor": 5
}
